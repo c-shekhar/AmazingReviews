{
 "cells": [
  {
   "cell_type": "markdown",
   "metadata": {},
   "source": [
    "## Extending experiments on Deceptive/Truthful Reviews Dataset"
   ]
  },
  {
   "cell_type": "markdown",
   "metadata": {},
   "source": [
    "In our 1st phase of CG/OR classification we produced three different models to classify our CG/OR dataset:   \n",
    "1. Openai GPT-2 output detector   \n",
    "2. Finetuned RoBERTa on CG/OR dataset   \n",
    "3. nb-svm trained on CG/OR dataset   \n",
    "Out of the above three best performing model was our Finetuned RoBERTa finetuned on CG/OR dataset.  \n",
    "\n",
    "In this 2nd phase we were trying to understand performance of our classifier on Deceptive Reviews Dataset.   \n",
    "So, in order to do that we wanted to evaluate below strategy:   \n",
    "1. Consider Deceptive Reviews equivalent to CG reviews and, Truthful Reviews under OR reviews. \n",
    "2. Test the performance of our classifier on complete Deceptive Reviews Dataset   \n",
    "   and compare with other classifiers.   \n",
    "3. Finetune our RoBERTa classifier on a subset of Deceptive Reviews Dataset   \n",
    "   and check performance on the remaining test set.   \n",
    "   3.1 Do 80-20 train/test split on Deceptive Reviews Dataset.    \n",
    "   3.2 Take 20% of above split and keep it as our test set for final evaluation.   \n",
    "   3.3 Merge 80% of above train split into our original CG/OR training dataset.   \n",
    "   3.4 Validation set remains same as our original CG/OR validation dataset.   \n",
    "   3.5 Retrain our CG/OR classifier with new training data and validate performance on above validation test.    \n",
    "   3.6 Evaluate performance on the above test set.    "
   ]
  },
  {
   "cell_type": "markdown",
   "metadata": {},
   "source": [
    "### Test CG/OR Existing classifiers on complete Deceptive Reviews Dataset"
   ]
  },
  {
   "cell_type": "markdown",
   "metadata": {},
   "source": [
    "#### Performance of Openai GPT-2 output detector on Deceptive Reviews Dataset"
   ]
  },
  {
   "cell_type": "code",
   "execution_count": 20,
   "metadata": {
    "scrolled": true
   },
   "outputs": [
    {
     "name": "stdout",
     "output_type": "stream",
     "text": [
      "Accuracy: 54.25; Precision:52.36439499304589; Recall:94.125\n"
     ]
    }
   ],
   "source": [
    "print(f\"Accuracy: {acc*100}; Precision:{precision*100}; Recall:{recall*100}\")"
   ]
  },
  {
   "cell_type": "code",
   "execution_count": 21,
   "metadata": {},
   "outputs": [
    {
     "name": "stdout",
     "output_type": "stream",
     "text": [
      "              precision    recall  f1-score   support\n",
      "\n",
      "          CG       0.71      0.14      0.24       800\n",
      "          OR       0.52      0.94      0.67       800\n",
      "\n",
      "    accuracy                           0.54      1600\n",
      "   macro avg       0.62      0.54      0.46      1600\n",
      "weighted avg       0.62      0.54      0.46      1600\n",
      "\n"
     ]
    }
   ],
   "source": [
    "print(classification_report(y_true, y_pred, target_names=[\"CG\",\"OR\"]))"
   ]
  },
  {
   "cell_type": "markdown",
   "metadata": {},
   "source": [
    "#### Performance of our finetuned RoBERTa on Deceptive Reviews Dataset"
   ]
  },
  {
   "cell_type": "code",
   "execution_count": 19,
   "metadata": {},
   "outputs": [
    {
     "name": "stdout",
     "output_type": "stream",
     "text": [
      "Accuracy: 51.6875; Precision:50.8749189889825; Recall:98.125\n"
     ]
    }
   ],
   "source": [
    "print(f\"Accuracy: {acc*100}; Precision:{precision*100}; Recall:{recall*100}\")"
   ]
  },
  {
   "cell_type": "code",
   "execution_count": 20,
   "metadata": {},
   "outputs": [
    {
     "name": "stdout",
     "output_type": "stream",
     "text": [
      "              precision    recall  f1-score   support\n",
      "\n",
      "          CG       0.74      0.05      0.10       800\n",
      "          OR       0.51      0.98      0.67       800\n",
      "\n",
      "    accuracy                           0.52      1600\n",
      "   macro avg       0.62      0.52      0.38      1600\n",
      "weighted avg       0.62      0.52      0.38      1600\n",
      "\n"
     ]
    }
   ],
   "source": [
    "print(classification_report(y_true, y_pred, target_names=[\"CG\",\"OR\"]))"
   ]
  },
  {
   "cell_type": "markdown",
   "metadata": {},
   "source": [
    "#### Performance of nb-svm classifier on Deceptive Reviews Dataset"
   ]
  },
  {
   "cell_type": "code",
   "execution_count": 35,
   "metadata": {
    "scrolled": true
   },
   "outputs": [
    {
     "name": "stdout",
     "output_type": "stream",
     "text": [
      "Accuracy: 50.18749999999999; Precision:50.093926111458984; Recall:100.0\n"
     ]
    }
   ],
   "source": [
    "print(f\"Accuracy: {acc*100}; Precision:{precision*100}; Recall:{recall*100}\")"
   ]
  },
  {
   "cell_type": "code",
   "execution_count": 36,
   "metadata": {},
   "outputs": [
    {
     "name": "stdout",
     "output_type": "stream",
     "text": [
      "              precision    recall  f1-score   support\n",
      "\n",
      "          CG       1.00      0.00      0.01       800\n",
      "          OR       0.50      1.00      0.67       800\n",
      "\n",
      "    accuracy                           0.50      1600\n",
      "   macro avg       0.75      0.50      0.34      1600\n",
      "weighted avg       0.75      0.50      0.34      1600\n",
      "\n"
     ]
    }
   ],
   "source": [
    "print(classification_report(y_true, y_pred, target_names=[\"CG\",\"OR\"]))"
   ]
  },
  {
   "cell_type": "markdown",
   "metadata": {},
   "source": [
    "After looking at above performance of all the three classifiers one thing which came pretty evident was\n",
    "all the three classifiers were predictive all the reviews(both Deceptive & Truthful) as OR.   \n",
    "So, as a standard practice we wanted to understand the auc-roc curve to see if we classifiers are able to perform any better at any other optimal value of confidence threshold other than current value of 0.5 because,     \n",
    "1. When AUC = 1, then the classifier is able to perfectly distinguish between all the Positive and the Negative class points correctly.   \n",
    "2. When 0.5<AUC<1, there is a high chance that the classifier will be able to distinguish the positive class values from the negative class values.    \n",
    "3. When AUC=0.5, then the classifier is not able to distinguish between Positive and Negative class points.   "
   ]
  },
  {
   "cell_type": "markdown",
   "metadata": {},
   "source": [
    "#### AUC-ROC analysis of openai GPT-2 output detector model on Deceptive Reviews Data Set"
   ]
  },
  {
   "cell_type": "code",
   "execution_count": 23,
   "metadata": {},
   "outputs": [
    {
     "name": "stdout",
     "output_type": "stream",
     "text": [
      "0.5951039062500001\n"
     ]
    }
   ],
   "source": [
    "from sklearn.metrics import roc_auc_score\n",
    "\n",
    "# auc scores\n",
    "auc_score = roc_auc_score(y_true, preds_probas)\n",
    "\n",
    "print(auc_score)"
   ]
  },
  {
   "cell_type": "code",
   "execution_count": 24,
   "metadata": {},
   "outputs": [
    {
     "data": {
      "image/png": "[encoded data removed]",
      "text/plain": [
       "<Figure size 576x396 with 1 Axes>"
      ]
     },
     "metadata": {},
     "output_type": "display_data"
    }
   ],
   "source": [
    "import matplotlib.pyplot as plt\n",
    "plt.style.use('seaborn')\n",
    "\n",
    "# plot roc curves\n",
    "plt.plot(fpr, tpr, linestyle='--',color='orange', label='finetuned-roberta')\n",
    "plt.plot(p_fpr, p_tpr, linestyle='--', color='blue')\n",
    "# title\n",
    "plt.title('ROC curve')\n",
    "# x label\n",
    "plt.xlabel('False Positive Rate')\n",
    "# y label\n",
    "plt.ylabel('True Positive rate')\n",
    "\n",
    "plt.legend(loc='best')\n",
    "plt.show();"
   ]
  },
  {
   "cell_type": "markdown",
   "metadata": {},
   "source": [
    "#### AUC-ROC analysis of our finetuned RoBERTa model on Deceptive Reviews Data Set"
   ]
  },
  {
   "cell_type": "code",
   "execution_count": 24,
   "metadata": {},
   "outputs": [
    {
     "name": "stdout",
     "output_type": "stream",
     "text": [
      "0.6958562500000001\n"
     ]
    }
   ],
   "source": [
    "from sklearn.metrics import roc_auc_score\n",
    "\n",
    "# auc scores\n",
    "auc_score = roc_auc_score(y_true, preds_probas)\n",
    "\n",
    "print(auc_score)"
   ]
  },
  {
   "cell_type": "code",
   "execution_count": 31,
   "metadata": {},
   "outputs": [
    {
     "data": {
      "image/png": "[encoded data removed]",
      "text/plain": [
       "<Figure size 576x396 with 1 Axes>"
      ]
     },
     "metadata": {},
     "output_type": "display_data"
    }
   ],
   "source": [
    "import matplotlib.pyplot as plt\n",
    "plt.style.use('seaborn')\n",
    "\n",
    "# plot roc curves\n",
    "plt.plot(fpr, tpr, linestyle='--',color='orange', label='openai-gpt2-detector')\n",
    "plt.plot(p_fpr, p_tpr, linestyle='--', color='blue')\n",
    "# title\n",
    "plt.title('ROC curve')\n",
    "# x label\n",
    "plt.xlabel('False Positive Rate')\n",
    "# y label\n",
    "plt.ylabel('True Positive rate')\n",
    "\n",
    "plt.legend(loc='best')\n",
    "plt.show();"
   ]
  },
  {
   "cell_type": "markdown",
   "metadata": {},
   "source": [
    "#### AUC-ROC analysis of nbsvm model on Deceptive Reviews Data Set"
   ]
  },
  {
   "cell_type": "code",
   "execution_count": 38,
   "metadata": {},
   "outputs": [
    {
     "name": "stdout",
     "output_type": "stream",
     "text": [
      "0.5750296875\n"
     ]
    }
   ],
   "source": [
    "from sklearn.metrics import roc_auc_score\n",
    "\n",
    "# auc scores\n",
    "auc_score = roc_auc_score(y_true, preds_probas)\n",
    "\n",
    "print(auc_score)"
   ]
  },
  {
   "cell_type": "code",
   "execution_count": 46,
   "metadata": {},
   "outputs": [
    {
     "data": {
      "image/png": "[encoded data removed]",
      "text/plain": [
       "<Figure size 576x396 with 1 Axes>"
      ]
     },
     "metadata": {},
     "output_type": "display_data"
    }
   ],
   "source": [
    "import matplotlib.pyplot as plt\n",
    "plt.style.use('seaborn')\n",
    "\n",
    "# plot roc curves\n",
    "plt.plot(fpr, tpr, linestyle='--',color='orange', label='nb-svm-baseline')\n",
    "plt.plot(p_fpr, p_tpr, linestyle='--', color='blue')\n",
    "# title\n",
    "plt.title('ROC curve')\n",
    "# x label\n",
    "plt.xlabel('False Positive Rate')\n",
    "# y label\n",
    "plt.ylabel('True Positive rate')\n",
    "\n",
    "plt.legend(loc='best')\n",
    "\n",
    "plt.show();"
   ]
  },
  {
   "cell_type": "markdown",
   "metadata": {},
   "source": [
    "It is evident from the plots that the AUC for our finetuned RoBERTa model is higher than that for openai gpt-2 and nb-svm models ROC curve.   \n",
    "Therefore, we can say that our finetuned RoBERTa model did a better job of classifying deceptive classes from truthful ones in the deceptive reviews dataset.  \n",
    "Let's also check model performance at the optimal classification threshold."
   ]
  },
  {
   "cell_type": "code",
   "execution_count": 46,
   "metadata": {},
   "outputs": [
    {
     "data": {
      "text/plain": [
       "0.9995717406272888"
      ]
     },
     "execution_count": 46,
     "metadata": {},
     "output_type": "execute_result"
    }
   ],
   "source": [
    "optimal_proba_cutoff"
   ]
  },
  {
   "cell_type": "code",
   "execution_count": 48,
   "metadata": {},
   "outputs": [
    {
     "name": "stdout",
     "output_type": "stream",
     "text": [
      "Accuracy Score Before and After Thresholding: 0.5225, 0.64125\n",
      "Precision Score Before and After Thresholding: 0.5118110236220472, 0.6632947976878613\n",
      "Recall Score Before and After Thresholding: 0.975, 0.57375\n",
      "F1 Score Before and After Thresholding: 0.6712564543889844, 0.6152815013404827\n"
     ]
    }
   ],
   "source": [
    "print(\"Accuracy Score Before and After Thresholding: {}, {}\".format(accuracy_score(y_true, y_pred), accuracy_score(y_true, roc_predictions)))\n",
    "print(\"Precision Score Before and After Thresholding: {}, {}\".format(precision_score(y_true, y_pred), precision_score(y_true, roc_predictions)))\n",
    "print(\"Recall Score Before and After Thresholding: {}, {}\".format(recall_score(y_true, y_pred), recall_score(y_true, roc_predictions)))\n",
    "print(\"F1 Score Before and After Thresholding: {}, {}\".format(f1_score(y_true, y_pred), f1_score(y_true, roc_predictions)))"
   ]
  },
  {
   "cell_type": "code",
   "execution_count": 50,
   "metadata": {},
   "outputs": [
    {
     "name": "stdout",
     "output_type": "stream",
     "text": [
      "Classification Report After Thresholding\n",
      "\n",
      "              precision    recall  f1-score   support\n",
      "\n",
      "          CG       0.62      0.71      0.66       800\n",
      "          OR       0.66      0.57      0.62       800\n",
      "\n",
      "    accuracy                           0.64      1600\n",
      "   macro avg       0.64      0.64      0.64      1600\n",
      "weighted avg       0.64      0.64      0.64      1600\n",
      "\n"
     ]
    }
   ],
   "source": [
    "print(\"Classification Report After Thresholding\\n\")\n",
    "print(classification_report(y_true, roc_predictions, target_names=[\"CG\",\"OR\"]))"
   ]
  },
  {
   "cell_type": "markdown",
   "metadata": {},
   "source": [
    "As can be seen model's performance improved with an optimal threshold and, we are able to get a model which performs at 65% accuracy at a confidence cutoff threshold of 0.9995717406272888"
   ]
  },
  {
   "cell_type": "markdown",
   "metadata": {},
   "source": [
    "Next, we can check if retraining our classifier on a subset(80%) of deceptive reviews along with our original CG/OR dataset improves the model performance furthermore and by how much?"
   ]
  },
  {
   "cell_type": "markdown",
   "metadata": {},
   "source": [
    "#### Now, Retraining CG/OR classifier on Deceptive + CG/OR mixed dataset"
   ]
  },
  {
   "cell_type": "markdown",
   "metadata": {},
   "source": [
    "We kept all the training parameters same as in our 1st phase of CG/OR classification"
   ]
  },
  {
   "cell_type": "code",
   "execution_count": 7,
   "metadata": {},
   "outputs": [],
   "source": [
    "model_name = \"roberta-base\"\n",
    "MAX_LEN = 256\n",
    "TRAIN_BATCH_SIZE = 8\n",
    "VALID_BATCH_SIZE = 8\n",
    "EPOCHS = 1\n",
    "LEARNING_RATE = 1e-05"
   ]
  },
  {
   "cell_type": "markdown",
   "metadata": {},
   "source": [
    "Accuracy on our original CG/OR validation dataset comes out to be 96.36% which is nearly same as our previous performance of 96.91% on the CG/OR validation dataset. \n",
    "While performance over our 20% test set containing only deceptive and truthful reviews comes out to be as below:"
   ]
  },
  {
   "cell_type": "code",
   "execution_count": 22,
   "metadata": {
    "scrolled": true
   },
   "outputs": [
    {
     "name": "stdout",
     "output_type": "stream",
     "text": [
      "Accuracy: 76.875; Precision:91.17647058823529; Recall:58.86075949367089\n"
     ]
    }
   ],
   "source": [
    "print(f\"Accuracy: {acc*100}; Precision:{precision*100}; Recall:{recall*100}\")"
   ]
  },
  {
   "cell_type": "code",
   "execution_count": 23,
   "metadata": {},
   "outputs": [
    {
     "name": "stdout",
     "output_type": "stream",
     "text": [
      "              precision    recall  f1-score   support\n",
      "\n",
      "          CG       0.70      0.94      0.81       162\n",
      "          OR       0.91      0.59      0.72       158\n",
      "\n",
      "    accuracy                           0.77       320\n",
      "   macro avg       0.81      0.77      0.76       320\n",
      "weighted avg       0.81      0.77      0.76       320\n",
      "\n"
     ]
    }
   ],
   "source": [
    "print(classification_report(y_true, y_pred, target_names=[\"CG\",\"OR\"]))"
   ]
  },
  {
   "cell_type": "markdown",
   "metadata": {},
   "source": [
    "Retraining(or finetuning) our RoBERTa model on mixed dataset of old CG/OR with Deceptive reviews results in a model\n",
    "of almost same performance on our old CG/OR validation set while with an improved performance having 77% accuracy on\n",
    "Deceptive reviews dataset.   \n",
    "Comparing our old model trained on CG/OR dataset only had an accuracy of 65% with optimal threshold.   \n",
    "There is 12% boost that is coming due to retraining."
   ]
  },
  {
   "cell_type": "markdown",
   "metadata": {},
   "source": [
    "Again, let's see the auc-roc analysis as well"
   ]
  },
  {
   "cell_type": "code",
   "execution_count": 25,
   "metadata": {
    "scrolled": true
   },
   "outputs": [
    {
     "name": "stdout",
     "output_type": "stream",
     "text": [
      "0.9249492108141898\n"
     ]
    }
   ],
   "source": [
    "from sklearn.metrics import roc_auc_score\n",
    "\n",
    "# auc scores\n",
    "auc_score = roc_auc_score(y_true, preds_probas)\n",
    "\n",
    "print(auc_score)"
   ]
  },
  {
   "cell_type": "code",
   "execution_count": 26,
   "metadata": {},
   "outputs": [
    {
     "data": {
      "image/png": "[encoded data removed]",
      "text/plain": [
       "<Figure size 576x396 with 1 Axes>"
      ]
     },
     "metadata": {},
     "output_type": "display_data"
    }
   ],
   "source": [
    "import matplotlib.pyplot as plt\n",
    "plt.style.use('seaborn')\n",
    "\n",
    "# plot roc curves\n",
    "plt.plot(fpr, tpr, linestyle='--',color='orange', label='openai-gpt2-detector')\n",
    "plt.plot(p_fpr, p_tpr, linestyle='--', color='blue')\n",
    "# title\n",
    "plt.title('ROC curve')\n",
    "# x label\n",
    "plt.xlabel('False Positive Rate')\n",
    "# y label\n",
    "plt.ylabel('True Positive rate')\n",
    "\n",
    "plt.legend(loc='best')\n",
    "plt.show();"
   ]
  },
  {
   "cell_type": "code",
   "execution_count": 28,
   "metadata": {},
   "outputs": [
    {
     "data": {
      "text/plain": [
       "0.43823137879371643"
      ]
     },
     "execution_count": 28,
     "metadata": {},
     "output_type": "execute_result"
    }
   ],
   "source": [
    "optimal_proba_cutoff"
   ]
  },
  {
   "cell_type": "code",
   "execution_count": 29,
   "metadata": {},
   "outputs": [
    {
     "name": "stdout",
     "output_type": "stream",
     "text": [
      "Accuracy Score Before and After Thresholding: 0.76875, 0.796875\n",
      "Precision Score Before and After Thresholding: 0.9117647058823529, 0.911504424778761\n",
      "Recall Score Before and After Thresholding: 0.5886075949367089, 0.6518987341772152\n",
      "F1 Score Before and After Thresholding: 0.7153846153846154, 0.7601476014760148\n"
     ]
    }
   ],
   "source": [
    "print(\"Accuracy Score Before and After Thresholding: {}, {}\".format(accuracy_score(y_true, y_pred), accuracy_score(y_true, roc_predictions)))\n",
    "print(\"Precision Score Before and After Thresholding: {}, {}\".format(precision_score(y_true, y_pred), precision_score(y_true, roc_predictions)))\n",
    "print(\"Recall Score Before and After Thresholding: {}, {}\".format(recall_score(y_true, y_pred), recall_score(y_true, roc_predictions)))\n",
    "print(\"F1 Score Before and After Thresholding: {}, {}\".format(f1_score(y_true, y_pred), f1_score(y_true, roc_predictions)))"
   ]
  },
  {
   "cell_type": "code",
   "execution_count": 30,
   "metadata": {},
   "outputs": [
    {
     "name": "stdout",
     "output_type": "stream",
     "text": [
      "Classification Report After Thresholding\n",
      "\n",
      "              precision    recall  f1-score   support\n",
      "\n",
      "          CG       0.73      0.94      0.82       162\n",
      "          OR       0.91      0.65      0.76       158\n",
      "\n",
      "    accuracy                           0.80       320\n",
      "   macro avg       0.82      0.80      0.79       320\n",
      "weighted avg       0.82      0.80      0.79       320\n",
      "\n"
     ]
    }
   ],
   "source": [
    "print(\"Classification Report After Thresholding\\n\")\n",
    "print(classification_report(y_true, roc_predictions, target_names=[\"CG\",\"OR\"]))"
   ]
  },
  {
   "cell_type": "markdown",
   "metadata": {},
   "source": [
    "With an optimal threshold of 0.43823137879371643, our retrained model can perform at ~80% accuracy which is numerically 2% higher than performance at cutoff threshold of 0.5"
   ]
  },
  {
   "cell_type": "markdown",
   "metadata": {},
   "source": [
    "Now, let's see if finetuning for another epoch makes any improvement on our deceptive reviews test set."
   ]
  },
  {
   "cell_type": "markdown",
   "metadata": {},
   "source": [
    "#### Finetuning our RoBERTa for another epoch"
   ]
  },
  {
   "cell_type": "markdown",
   "metadata": {},
   "source": [
    "Now, after training for one more epoch accuracy on our original CG/OR validation dataset comes out to be 98.13% which is nearly ~1% higher than our previous performance of 96.91% on the CG/OR validation dataset.\n",
    "While performance over our 20% test set containing only deceptive and truthful reviews comes out to be as below:"
   ]
  },
  {
   "cell_type": "code",
   "execution_count": 20,
   "metadata": {
    "scrolled": true
   },
   "outputs": [
    {
     "name": "stdout",
     "output_type": "stream",
     "text": [
      "Accuracy: 87.8125; Precision:93.43065693430657; Recall:81.0126582278481\n"
     ]
    }
   ],
   "source": [
    "print(f\"Accuracy: {acc*100}; Precision:{precision*100}; Recall:{recall*100}\")"
   ]
  },
  {
   "cell_type": "code",
   "execution_count": 21,
   "metadata": {},
   "outputs": [
    {
     "name": "stdout",
     "output_type": "stream",
     "text": [
      "              precision    recall  f1-score   support\n",
      "\n",
      "          CG       0.84      0.94      0.89       162\n",
      "          OR       0.93      0.81      0.87       158\n",
      "\n",
      "    accuracy                           0.88       320\n",
      "   macro avg       0.89      0.88      0.88       320\n",
      "weighted avg       0.88      0.88      0.88       320\n",
      "\n"
     ]
    }
   ],
   "source": [
    "print(classification_report(y_true, y_pred, target_names=[\"CG\",\"OR\"]))"
   ]
  },
  {
   "cell_type": "markdown",
   "metadata": {},
   "source": [
    "We are able to reach a performance of ~88% on our test set of only deceptive/truthful reviews dataset."
   ]
  },
  {
   "cell_type": "code",
   "execution_count": null,
   "metadata": {},
   "outputs": [],
   "source": []
  }
 ],
 "metadata": {
  "kernelspec": {
   "display_name": "Python 3",
   "language": "python",
   "name": "python3"
  },
  "language_info": {
   "codemirror_mode": {
    "name": "ipython",
    "version": 3
   },
   "file_extension": ".py",
   "mimetype": "text/x-python",
   "name": "python",
   "nbconvert_exporter": "python",
   "pygments_lexer": "ipython3",
   "version": "3.7.9"
  }
 },
 "nbformat": 4,
 "nbformat_minor": 4
}
