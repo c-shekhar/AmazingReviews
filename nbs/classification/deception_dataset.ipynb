{
 "cells": [
  {
   "cell_type": "code",
   "execution_count": 5,
   "metadata": {},
   "outputs": [],
   "source": [
    "from glob import glob\n",
    "from pathlib import Path\n",
    "import pandas as pd"
   ]
  },
  {
   "cell_type": "code",
   "execution_count": 15,
   "metadata": {},
   "outputs": [],
   "source": [
    "positive_truthful_reviews_path = f\"../../data/classification/data/op_spam_v1.4/positive_polarity/truthful_from_TripAdvisor\"\n",
    "negative_truthful_reviews_path = f\"../../data/classification/data/op_spam_v1.4/negative_polarity/truthful_from_Web\"\n",
    "positive_deceptive_reviews_path = f\"../../data/classification/data/op_spam_v1.4/positive_polarity/deceptive_from_MTurk\"\n",
    "negative_deceptive_reviews_path = f\"../../data/classification/data/op_spam_v1.4/negative_polarity/deceptive_from_MTurk\""
   ]
  },
  {
   "cell_type": "code",
   "execution_count": 25,
   "metadata": {},
   "outputs": [],
   "source": [
    "folds = [\"fold1\",\"fold2\",\"fold3\",\"fold4\",\"fold5\"]"
   ]
  },
  {
   "cell_type": "code",
   "execution_count": 35,
   "metadata": {},
   "outputs": [],
   "source": [
    "rows = []\n",
    "for fold in folds:\n",
    "    txt_files = glob(f\"{positive_truthful_reviews_path}/{fold}/*\")\n",
    "    for _ in txt_files:\n",
    "        txt = open(_).read().strip()\n",
    "        rows.append([txt,\"positive\",\"OR\"])"
   ]
  },
  {
   "cell_type": "code",
   "execution_count": 36,
   "metadata": {},
   "outputs": [],
   "source": [
    "for fold in folds:\n",
    "    txt_files = glob(f\"{negative_truthful_reviews_path}/{fold}/*\")\n",
    "    for _ in txt_files:\n",
    "        txt = open(_).read().strip()\n",
    "        rows.append([txt,\"negative\",\"OR\"])"
   ]
  },
  {
   "cell_type": "code",
   "execution_count": 37,
   "metadata": {},
   "outputs": [],
   "source": [
    "for fold in folds:\n",
    "    txt_files = glob(f\"{positive_deceptive_reviews_path}/{fold}/*\")\n",
    "    for _ in txt_files:\n",
    "        txt = open(_).read().strip()\n",
    "        rows.append([txt,\"positive\",\"CG\"])"
   ]
  },
  {
   "cell_type": "code",
   "execution_count": 38,
   "metadata": {},
   "outputs": [],
   "source": [
    "for fold in folds:\n",
    "    txt_files = glob(f\"{negative_deceptive_reviews_path}/{fold}/*\")\n",
    "    for _ in txt_files:\n",
    "        txt = open(_).read().strip()\n",
    "        rows.append([txt,\"negative\",\"CG\"])"
   ]
  },
  {
   "cell_type": "code",
   "execution_count": 39,
   "metadata": {},
   "outputs": [
    {
     "data": {
      "text/plain": [
       "1600"
      ]
     },
     "execution_count": 39,
     "metadata": {},
     "output_type": "execute_result"
    }
   ],
   "source": [
    "len(rows)"
   ]
  },
  {
   "cell_type": "code",
   "execution_count": 45,
   "metadata": {},
   "outputs": [],
   "source": [
    "deception_df = pd.DataFrame(data=rows,columns=[\"text_\",\"polarity\",\"label\"])"
   ]
  },
  {
   "cell_type": "code",
   "execution_count": 46,
   "metadata": {},
   "outputs": [
    {
     "data": {
      "text/plain": [
       "(1600, 3)"
      ]
     },
     "execution_count": 46,
     "metadata": {},
     "output_type": "execute_result"
    }
   ],
   "source": [
    "deception_df.shape"
   ]
  },
  {
   "cell_type": "code",
   "execution_count": 47,
   "metadata": {},
   "outputs": [
    {
     "data": {
      "text/html": [
       "<div>\n",
       "<style scoped>\n",
       "    .dataframe tbody tr th:only-of-type {\n",
       "        vertical-align: middle;\n",
       "    }\n",
       "\n",
       "    .dataframe tbody tr th {\n",
       "        vertical-align: top;\n",
       "    }\n",
       "\n",
       "    .dataframe thead th {\n",
       "        text-align: right;\n",
       "    }\n",
       "</style>\n",
       "<table border=\"1\" class=\"dataframe\">\n",
       "  <thead>\n",
       "    <tr style=\"text-align: right;\">\n",
       "      <th></th>\n",
       "      <th>text_</th>\n",
       "      <th>polarity</th>\n",
       "      <th>label</th>\n",
       "    </tr>\n",
       "  </thead>\n",
       "  <tbody>\n",
       "    <tr>\n",
       "      <th>0</th>\n",
       "      <td>Great place, great room, great location. Even ...</td>\n",
       "      <td>positive</td>\n",
       "      <td>OR</td>\n",
       "    </tr>\n",
       "    <tr>\n",
       "      <th>1</th>\n",
       "      <td>Very pleasant front staff, wine in the evening...</td>\n",
       "      <td>positive</td>\n",
       "      <td>OR</td>\n",
       "    </tr>\n",
       "    <tr>\n",
       "      <th>2</th>\n",
       "      <td>We had our hotel reservations at another hotel...</td>\n",
       "      <td>positive</td>\n",
       "      <td>OR</td>\n",
       "    </tr>\n",
       "    <tr>\n",
       "      <th>3</th>\n",
       "      <td>Just got back from a 10 day visit to Chicago. ...</td>\n",
       "      <td>positive</td>\n",
       "      <td>OR</td>\n",
       "    </tr>\n",
       "    <tr>\n",
       "      <th>4</th>\n",
       "      <td>We booked our stay through Priceline.com and g...</td>\n",
       "      <td>positive</td>\n",
       "      <td>OR</td>\n",
       "    </tr>\n",
       "  </tbody>\n",
       "</table>\n",
       "</div>"
      ],
      "text/plain": [
       "                                               text_  polarity label\n",
       "0  Great place, great room, great location. Even ...  positive    OR\n",
       "1  Very pleasant front staff, wine in the evening...  positive    OR\n",
       "2  We had our hotel reservations at another hotel...  positive    OR\n",
       "3  Just got back from a 10 day visit to Chicago. ...  positive    OR\n",
       "4  We booked our stay through Priceline.com and g...  positive    OR"
      ]
     },
     "execution_count": 47,
     "metadata": {},
     "output_type": "execute_result"
    }
   ],
   "source": [
    "deception_df.head()"
   ]
  },
  {
   "cell_type": "code",
   "execution_count": 48,
   "metadata": {},
   "outputs": [],
   "source": [
    "deception_df.to_csv(\"../../data/classification/data/deception_data.csv\", index=None)"
   ]
  },
  {
   "cell_type": "code",
   "execution_count": null,
   "metadata": {},
   "outputs": [],
   "source": []
  }
 ],
 "metadata": {
  "kernelspec": {
   "display_name": "Python 3",
   "language": "python",
   "name": "python3"
  },
  "language_info": {
   "codemirror_mode": {
    "name": "ipython",
    "version": 3
   },
   "file_extension": ".py",
   "mimetype": "text/x-python",
   "name": "python",
   "nbconvert_exporter": "python",
   "pygments_lexer": "ipython3",
   "version": "3.7.9"
  }
 },
 "nbformat": 4,
 "nbformat_minor": 4
}
